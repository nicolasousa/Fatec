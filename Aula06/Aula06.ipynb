{
 "cells": [
  {
   "cell_type": "code",
   "execution_count": null,
   "id": "2d8e9dcb",
   "metadata": {},
   "outputs": [],
   "source": []
  },
  {
   "cell_type": "code",
   "execution_count": null,
   "id": "343ee207",
   "metadata": {},
   "outputs": [],
   "source": []
  },
  {
   "cell_type": "code",
   "execution_count": 6,
   "id": "eeb026f6",
   "metadata": {},
   "outputs": [
    {
     "data": {
      "text/plain": [
       "<function __main__.funcao_externa.<locals>.funcao_interna()>"
      ]
     },
     "execution_count": 6,
     "metadata": {},
     "output_type": "execute_result"
    }
   ],
   "source": [
    "# Em termos de uma função simples\n",
    "\n",
    "def funcao_externa(func):\n",
    "    def funcao_interna():\n",
    "        # coisas antes\n",
    "        func()\n",
    "        #coisas depois\n",
    "    return funcao_interna\n",
    "\n",
    "funcao_externa(print)"
   ]
  },
  {
   "cell_type": "code",
   "execution_count": 7,
   "id": "3c217247",
   "metadata": {},
   "outputs": [],
   "source": [
    "# Em termos de decorator com nomenclatura correta\n",
    "import functools\n",
    "from functools import cache\n",
    "\n",
    "@functools.cache\n",
    "# ou @cache graças ao \"import cache\"\n",
    "@cache\n",
    "def fibonacci():\n",
    "    pass\n",
    "\n",
    "fibonacci()"
   ]
  },
  {
   "cell_type": "markdown",
   "id": "99a2d118",
   "metadata": {},
   "source": [
    "### CRIANDO NOSSO DECORATOR"
   ]
  },
  {
   "cell_type": "markdown",
   "id": "d959d871",
   "metadata": {},
   "source": [
    "#### Criando uma função"
   ]
  },
  {
   "cell_type": "code",
   "execution_count": 12,
   "id": "98634298",
   "metadata": {},
   "outputs": [
    {
     "data": {
      "text/plain": [
       "True"
      ]
     },
     "execution_count": 12,
     "metadata": {},
     "output_type": "execute_result"
    }
   ],
   "source": [
    "def soma(val_1, val_2):\n",
    "    val_1 + val_2\n",
    "\n",
    "soma(1, 2) is None "
   ]
  },
  {
   "cell_type": "code",
   "execution_count": 15,
   "id": "7dc81b06",
   "metadata": {},
   "outputs": [
    {
     "data": {
      "text/plain": [
       "\"Operação não suportada: unsupported operand type(s) for +: 'int' and 'str'\""
      ]
     },
     "execution_count": 15,
     "metadata": {},
     "output_type": "execute_result"
    }
   ],
   "source": [
    "# piscina - função que permite usuários utilizarem a piscina \n",
    "def piscina(val_1, val_2):\n",
    "    try:\n",
    "        return val_1 + val_2\n",
    "    except Exception as err:\n",
    "        # usuário entrou na piscina\n",
    "        return f\"Operação não suportada: {err}\"\n",
    "    \n",
    "piscina(1, \"2\")"
   ]
  },
  {
   "cell_type": "code",
   "execution_count": 22,
   "id": "d156f1f5",
   "metadata": {},
   "outputs": [
    {
     "name": "stdout",
     "output_type": "stream",
     "text": [
      "REALIZANDO EXAME\n"
     ]
    },
    {
     "ename": "TypeError",
     "evalue": "paciente() missing 1 required positional argument: 'formulario_preenchido'",
     "output_type": "error",
     "traceback": [
      "\u001b[1;31m---------------------------------------------------------------------------\u001b[0m",
      "\u001b[1;31mTypeError\u001b[0m                                 Traceback (most recent call last)",
      "\u001b[1;32mC:\\Users\\FATECS~1\\AppData\\Local\\Temp/ipykernel_13976/3668186234.py\u001b[0m in \u001b[0;36m<module>\u001b[1;34m\u001b[0m\n\u001b[0;32m     11\u001b[0m     \u001b[1;36m1\u001b[0m \u001b[1;33m+\u001b[0m \u001b[1;34m\"1\"\u001b[0m\u001b[1;33m\u001b[0m\u001b[1;33m\u001b[0m\u001b[0m\n\u001b[0;32m     12\u001b[0m \u001b[1;33m\u001b[0m\u001b[0m\n\u001b[1;32m---> 13\u001b[1;33m \u001b[0mpaciente\u001b[0m\u001b[1;33m(\u001b[0m\u001b[1;36m2\u001b[0m\u001b[1;33m)\u001b[0m\u001b[1;33m\u001b[0m\u001b[1;33m\u001b[0m\u001b[0m\n\u001b[0m",
      "\u001b[1;32mC:\\Users\\FATECS~1\\AppData\\Local\\Temp/ipykernel_13976/3668186234.py\u001b[0m in \u001b[0;36mmedico\u001b[1;34m(formulário)\u001b[0m\n\u001b[0;32m      3\u001b[0m     \u001b[1;32mdef\u001b[0m \u001b[0mmedico\u001b[0m\u001b[1;33m(\u001b[0m\u001b[0mformulário\u001b[0m\u001b[1;33m)\u001b[0m\u001b[1;33m:\u001b[0m  \u001b[1;31m# papeis do exame\u001b[0m\u001b[1;33m\u001b[0m\u001b[1;33m\u001b[0m\u001b[0m\n\u001b[0;32m      4\u001b[0m         \u001b[0mprint\u001b[0m\u001b[1;33m(\u001b[0m\u001b[1;34m\"REALIZANDO EXAME\"\u001b[0m\u001b[1;33m)\u001b[0m\u001b[1;33m\u001b[0m\u001b[1;33m\u001b[0m\u001b[0m\n\u001b[1;32m----> 5\u001b[1;33m         \u001b[0mpaciente\u001b[0m\u001b[1;33m(\u001b[0m\u001b[1;33m)\u001b[0m\u001b[1;33m\u001b[0m\u001b[1;33m\u001b[0m\u001b[0m\n\u001b[0m\u001b[0;32m      6\u001b[0m         \u001b[0mprint\u001b[0m\u001b[1;33m(\u001b[0m\u001b[1;34m\"EXAME FINALIZADO\"\u001b[0m\u001b[1;33m)\u001b[0m\u001b[1;33m\u001b[0m\u001b[1;33m\u001b[0m\u001b[0m\n\u001b[0;32m      7\u001b[0m     \u001b[1;32mreturn\u001b[0m \u001b[0mmedico\u001b[0m\u001b[1;33m\u001b[0m\u001b[1;33m\u001b[0m\u001b[0m\n",
      "\u001b[1;31mTypeError\u001b[0m: paciente() missing 1 required positional argument: 'formulario_preenchido'"
     ]
    }
   ],
   "source": [
    "# exame -  função que verifica se o usuário está apto a nadar\n",
    "def exame(paciente):\n",
    "    def medico(formulário):  # papeis do exame\n",
    "        print(\"REALIZANDO EXAME\")\n",
    "        paciente()\n",
    "        print(\"EXAME FINALIZADO\")\n",
    "    return medico\n",
    "\n",
    "@exame\n",
    "def paciente(formulario_preenchido):\n",
    "    1 + \"1\"\n",
    "\n",
    "paciente(2)"
   ]
  },
  {
   "cell_type": "markdown",
   "id": "82a89f34",
   "metadata": {},
   "source": [
    "### ENTENDENDO MAIS SOBRE FUNÇÕES"
   ]
  },
  {
   "cell_type": "markdown",
   "id": "2b2add3c",
   "metadata": {},
   "source": [
    "* FUNÇÃO COM PARÂMETRO"
   ]
  },
  {
   "cell_type": "code",
   "execution_count": 24,
   "id": "8903089c",
   "metadata": {},
   "outputs": [],
   "source": [
    "def func(parametro):  # valor rigido\n",
    "    pass"
   ]
  },
  {
   "cell_type": "markdown",
   "id": "570c2050",
   "metadata": {},
   "source": [
    "* FUNÇÃO SEM PARÂMETRO"
   ]
  },
  {
   "cell_type": "code",
   "execution_count": 25,
   "id": "836ba799",
   "metadata": {},
   "outputs": [],
   "source": [
    "def func():  # sem valor\n",
    "    pass"
   ]
  },
  {
   "cell_type": "markdown",
   "id": "b5b680ff",
   "metadata": {},
   "source": [
    "* FUNÇÃO DINÂMICA"
   ]
  },
  {
   "cell_type": "code",
   "execution_count": 33,
   "id": "ffd139aa",
   "metadata": {},
   "outputs": [
    {
     "name": "stdout",
     "output_type": "stream",
     "text": [
      "FUNCIONOU\n",
      "1\n",
      "2\n",
      "3\n",
      "4\n"
     ]
    }
   ],
   "source": [
    "def func(*args):  # desempacotador\n",
    "    for valor in args:\n",
    "        print(valor)\n",
    "\n",
    "func(\"FUNCIONOU\", 1, 2, 3, 4)\n",
    "    \n",
    "# \"args\" trata-se de uma variável poderia ser qualquer outro nome"
   ]
  },
  {
   "cell_type": "code",
   "execution_count": 37,
   "id": "42e85d1a",
   "metadata": {},
   "outputs": [
    {
     "ename": "TypeError",
     "evalue": "func2() takes 0 positional arguments but 1 was given",
     "output_type": "error",
     "traceback": [
      "\u001b[1;31m---------------------------------------------------------------------------\u001b[0m",
      "\u001b[1;31mTypeError\u001b[0m                                 Traceback (most recent call last)",
      "\u001b[1;32mC:\\Users\\FATECS~1\\AppData\\Local\\Temp/ipykernel_13976/2884022802.py\u001b[0m in \u001b[0;36m<module>\u001b[1;34m\u001b[0m\n\u001b[0;32m      3\u001b[0m         \u001b[0mprint\u001b[0m\u001b[1;33m(\u001b[0m\u001b[1;34mf\"Essa é a chave: {chave}\"\u001b[0m\u001b[1;33m)\u001b[0m\u001b[1;33m\u001b[0m\u001b[1;33m\u001b[0m\u001b[0m\n\u001b[0;32m      4\u001b[0m         \u001b[0mprint\u001b[0m\u001b[1;33m(\u001b[0m\u001b[1;34mf\"E esse é o valor: {valor}\"\u001b[0m\u001b[1;33m)\u001b[0m\u001b[1;33m\u001b[0m\u001b[1;33m\u001b[0m\u001b[0m\n\u001b[1;32m----> 5\u001b[1;33m \u001b[0mfunc2\u001b[0m\u001b[1;33m(\u001b[0m\u001b[1;34m\"cavalo\"\u001b[0m\u001b[1;33m)\u001b[0m\u001b[1;33m\u001b[0m\u001b[1;33m\u001b[0m\u001b[0m\n\u001b[0m",
      "\u001b[1;31mTypeError\u001b[0m: func2() takes 0 positional arguments but 1 was given"
     ]
    }
   ],
   "source": [
    "def func2(**kwargs):\n",
    "    for chave, valor in kwargs:\n",
    "        print(f\"Essa é a chave: {chave}\")\n",
    "        print(f\"E esse é o valor: {valor}\")\n",
    "func2(\"cavalo\")"
   ]
  },
  {
   "cell_type": "code",
   "execution_count": 38,
   "id": "bdcbca6c",
   "metadata": {},
   "outputs": [
    {
     "name": "stdout",
     "output_type": "stream",
     "text": [
      "Requirement already satisfied: flask in c:\\users\\fatecsdp-ti\\anaconda3\\lib\\site-packages (1.1.2)\n",
      "Requirement already satisfied: Jinja2>=2.10.1 in c:\\users\\fatecsdp-ti\\anaconda3\\lib\\site-packages (from flask) (2.11.3)\n",
      "Requirement already satisfied: itsdangerous>=0.24 in c:\\users\\fatecsdp-ti\\anaconda3\\lib\\site-packages (from flask) (2.0.1)\n",
      "Requirement already satisfied: Werkzeug>=0.15 in c:\\users\\fatecsdp-ti\\anaconda3\\lib\\site-packages (from flask) (2.0.2)\n",
      "Requirement already satisfied: click>=5.1 in c:\\users\\fatecsdp-ti\\anaconda3\\lib\\site-packages (from flask) (8.0.3)\n",
      "Requirement already satisfied: colorama in c:\\users\\fatecsdp-ti\\anaconda3\\lib\\site-packages (from click>=5.1->flask) (0.4.4)\n",
      "Requirement already satisfied: MarkupSafe>=0.23 in c:\\users\\fatecsdp-ti\\anaconda3\\lib\\site-packages (from Jinja2>=2.10.1->flask) (1.1.1)\n",
      "Note: you may need to restart the kernel to use updated packages.\n"
     ]
    }
   ],
   "source": [
    "pip install flask"
   ]
  }
 ],
 "metadata": {
  "kernelspec": {
   "display_name": "Python 3 (ipykernel)",
   "language": "python",
   "name": "python3"
  },
  "language_info": {
   "codemirror_mode": {
    "name": "ipython",
    "version": 3
   },
   "file_extension": ".py",
   "mimetype": "text/x-python",
   "name": "python",
   "nbconvert_exporter": "python",
   "pygments_lexer": "ipython3",
   "version": "3.9.7"
  }
 },
 "nbformat": 4,
 "nbformat_minor": 5
}
