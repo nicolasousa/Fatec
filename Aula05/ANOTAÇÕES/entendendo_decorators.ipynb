{
 "cells": [
  {
   "cell_type": "markdown",
   "id": "7127f37e",
   "metadata": {},
   "source": [
    "# ENTENDENDO DECORATORS"
   ]
  },
  {
   "cell_type": "raw",
   "id": "5ae09e62",
   "metadata": {},
   "source": [
    "\n",
    "* O que são decorators \n",
    "* como aplicar decorators \n",
    "* decorador como classe \n",
    "* flask"
   ]
  },
  {
   "cell_type": "markdown",
   "id": "39ddb4c0",
   "metadata": {},
   "source": [
    "Em nível de função lambda, segue o exemplo"
   ]
  },
  {
   "cell_type": "code",
   "execution_count": 10,
   "id": "07cdcff2",
   "metadata": {},
   "outputs": [
    {
     "name": "stdout",
     "output_type": "stream",
     "text": [
      "Cavalo\n"
     ]
    }
   ],
   "source": [
    "# Uma função que retorna outra função\n",
    "pegar_cep = lambda : print\n",
    "pegar_cep()('Cavalo')"
   ]
  },
  {
   "cell_type": "markdown",
   "id": "fdebe5cd",
   "metadata": {},
   "source": [
    "## CRIANDO FUNÇÔES"
   ]
  },
  {
   "cell_type": "code",
   "execution_count": 12,
   "id": "8d725c35",
   "metadata": {},
   "outputs": [],
   "source": [
    "def func():\n",
    "    pass"
   ]
  },
  {
   "cell_type": "markdown",
   "id": "c085caf6",
   "metadata": {},
   "source": [
    "##### *FUNÇÃO QUE RETORNA VALOR"
   ]
  },
  {
   "cell_type": "code",
   "execution_count": 15,
   "id": "2cb2e429",
   "metadata": {},
   "outputs": [
    {
     "data": {
      "text/plain": [
       "'Valor retornado'"
      ]
     },
     "execution_count": 15,
     "metadata": {},
     "output_type": "execute_result"
    }
   ],
   "source": [
    "def retorna_valor():\n",
    "        return \"Valor retornado\"\n",
    "\n",
    "retorna_valor()"
   ]
  },
  {
   "cell_type": "markdown",
   "id": "da738184",
   "metadata": {},
   "source": [
    "##### * FUNÇÃO QUE RECEBE E RETORNA VALORES"
   ]
  },
  {
   "cell_type": "markdown",
   "id": "a3a9d644",
   "metadata": {},
   "source": [
    "###### ** FUNÇÃO COM PARAMETRO(S): FUNÇÃO COM VARIÁVEL"
   ]
  },
  {
   "cell_type": "code",
   "execution_count": 22,
   "id": "179b84c2",
   "metadata": {},
   "outputs": [
    {
     "data": {
      "text/plain": [
       "'Fatec Fatec Fatec '"
      ]
     },
     "execution_count": 22,
     "metadata": {},
     "output_type": "execute_result"
    }
   ],
   "source": [
    "def func2(parametro):\n",
    "    return parametro * 3\n",
    "\n",
    "func2(\"Fatec \") # Argumento -> valor literal"
   ]
  },
  {
   "cell_type": "code",
   "execution_count": 23,
   "id": "0d797f41",
   "metadata": {},
   "outputs": [
    {
     "name": "stdout",
     "output_type": "stream",
     "text": [
      "Fatec Fatec Fatec \n"
     ]
    }
   ],
   "source": [
    "def func2(parametro):\n",
    "    return parametro * 3\n",
    "\n",
    "print(func2(\"Fatec \")) # Argumento -> valor literal"
   ]
  },
  {
   "cell_type": "markdown",
   "id": "ae1ce1e3",
   "metadata": {},
   "source": [
    "### DESAFIO\n",
    "##### Crie uma função que quando chamada e passa um valor\n",
    "##### se inteiro, retorne o mesmo - 1(menos um) 5 -> 4\n",
    "##### se o valor passado for um float trukate 1.2 -> 1\n",
    "##### se o valor passado for texto retorne :)"
   ]
  },
  {
   "cell_type": "code",
   "execution_count": 38,
   "id": "9abea42c",
   "metadata": {},
   "outputs": [
    {
     "data": {
      "text/plain": [
       "':)'"
      ]
     },
     "execution_count": 38,
     "metadata": {},
     "output_type": "execute_result"
    }
   ],
   "source": [
    "def func(parametro):\n",
    "    if type(parametro) == int:\n",
    "        return parametro - 1\n",
    "    \n",
    "    elif type(parametro) == float:\n",
    "        return int(parametro)   # round(parametro)\n",
    "\n",
    "    else:\n",
    "        return \":)\"\n",
    "    \n",
    "func(\"\")"
   ]
  },
  {
   "cell_type": "markdown",
   "id": "b0c60ef4",
   "metadata": {},
   "source": [
    "##### Crie uma função que retorne 6 valores aleatórios"
   ]
  },
  {
   "cell_type": "code",
   "execution_count": 35,
   "id": "c84f6b8a",
   "metadata": {},
   "outputs": [
    {
     "ename": "SyntaxError",
     "evalue": "invalid syntax (Temp/ipykernel_9324/838759854.py, line 4)",
     "output_type": "error",
     "traceback": [
      "\u001b[1;36m  File \u001b[1;32m\"C:\\Users\\FATECS~1\\AppData\\Local\\Temp/ipykernel_9324/838759854.py\"\u001b[1;36m, line \u001b[1;32m4\u001b[0m\n\u001b[1;33m    for i in range(6)\u001b[0m\n\u001b[1;37m                     ^\u001b[0m\n\u001b[1;31mSyntaxError\u001b[0m\u001b[1;31m:\u001b[0m invalid syntax\n"
     ]
    }
   ],
   "source": [
    "import random\n",
    "def mega_sena():\n",
    "    digitos = []\n",
    "    for i in range(6)\n",
    "        digitos.append(random.randint(1, 60))\n",
    "    digitos.sort()\n",
    "    return digitos\n",
    "\n",
    "mega_sena()"
   ]
  },
  {
   "cell_type": "code",
   "execution_count": null,
   "id": "827d1510",
   "metadata": {},
   "outputs": [],
   "source": []
  }
 ],
 "metadata": {
  "kernelspec": {
   "display_name": "Python 3 (ipykernel)",
   "language": "python",
   "name": "python3"
  },
  "language_info": {
   "codemirror_mode": {
    "name": "ipython",
    "version": 3
   },
   "file_extension": ".py",
   "mimetype": "text/x-python",
   "name": "python",
   "nbconvert_exporter": "python",
   "pygments_lexer": "ipython3",
   "version": "3.9.7"
  }
 },
 "nbformat": 4,
 "nbformat_minor": 5
}
