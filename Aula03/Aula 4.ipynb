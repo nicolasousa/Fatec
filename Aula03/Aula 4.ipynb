{
 "cells": [
  {
   "cell_type": "markdown",
   "id": "e151bb3c",
   "metadata": {},
   "source": []
  },
  {
   "cell_type": "code",
   "execution_count": null,
   "id": "0d947fdb",
   "metadata": {},
   "outputs": [],
   "source": []
  },
  {
   "cell_type": "code",
   "execution_count": null,
   "id": "377eb68f",
   "metadata": {},
   "outputs": [],
   "source": []
  },
  {
   "cell_type": "markdown",
   "id": "2c47d9a2",
   "metadata": {},
   "source": [
    "# LAÇO DE REPETIÇÃO"
   ]
  },
  {
   "cell_type": "code",
   "execution_count": 4,
   "id": "02c1f729",
   "metadata": {},
   "outputs": [
    {
     "name": "stdout",
     "output_type": "stream",
     "text": [
      "=^^=\n"
     ]
    }
   ],
   "source": [
    "print (\"=^^=\")"
   ]
  },
  {
   "cell_type": "code",
   "execution_count": 6,
   "id": "7898e3bd",
   "metadata": {},
   "outputs": [
    {
     "name": "stdout",
     "output_type": "stream",
     "text": [
      "=^^=\n",
      "=^^=\n",
      "=^^=\n",
      "=^^=\n",
      "=^^=\n",
      "=^^=\n",
      "=^^=\n"
     ]
    }
   ],
   "source": [
    "print (\"=^^=\")\n",
    "print (\"=^^=\")\n",
    "print (\"=^^=\")\n",
    "print (\"=^^=\")\n",
    "print (\"=^^=\")\n",
    "print (\"=^^=\")\n",
    "print (\"=^^=\")\n"
   ]
  },
  {
   "cell_type": "markdown",
   "id": "bfb0f616",
   "metadata": {},
   "source": [
    "# ESTRUTURA DE REPETIÇÃO FOR"
   ]
  },
  {
   "cell_type": "markdown",
   "id": "64d70601",
   "metadata": {},
   "source": [
    "for variável in ITERADOR"
   ]
  },
  {
   "cell_type": "markdown",
   "id": "7ab44742",
   "metadata": {},
   "source": [
    "    Para cada elemento 'for' dentro do 'ITERÁVEL' salve temporáriamente um valor contido no 'ITERADOR'\n",
    "    na variável \"variável\"\n",
    "    \n",
    "    execute o código abaixo o mesmo tanto de vezes que o tamanho do \"ITERÁVEL\""
   ]
  },
  {
   "cell_type": "code",
   "execution_count": 10,
   "id": "4fde3cb5",
   "metadata": {},
   "outputs": [
    {
     "ename": "NameError",
     "evalue": "name 'textos' is not defined",
     "output_type": "error",
     "traceback": [
      "\u001b[1;31m---------------------------------------------------------------------------\u001b[0m",
      "\u001b[1;31mNameError\u001b[0m                                 Traceback (most recent call last)",
      "\u001b[1;32mC:\\Users\\FATECS~1\\AppData\\Local\\Temp/ipykernel_12048/4155686468.py\u001b[0m in \u001b[0;36m<module>\u001b[1;34m\u001b[0m\n\u001b[0;32m      2\u001b[0m \u001b[1;33m\u001b[0m\u001b[0m\n\u001b[0;32m      3\u001b[0m \u001b[0mlistas\u001b[0m \u001b[1;33m=\u001b[0m \u001b[1;33m[\u001b[0m\u001b[1;36m1\u001b[0m\u001b[1;33m,\u001b[0m \u001b[1;34m\"texto\"\u001b[0m\u001b[1;33m,\u001b[0m \u001b[1;33m[\u001b[0m\u001b[1;33m]\u001b[0m\u001b[1;33m]\u001b[0m   \u001b[1;31m# listas aceitam quaisquer ojetos\u001b[0m\u001b[1;33m\u001b[0m\u001b[1;33m\u001b[0m\u001b[0m\n\u001b[1;32m----> 4\u001b[1;33m \u001b[0mtextos\u001b[0m\u001b[1;33m\u001b[0m\u001b[1;33m\u001b[0m\u001b[0m\n\u001b[0m",
      "\u001b[1;31mNameError\u001b[0m: name 'textos' is not defined"
     ]
    }
   ],
   "source": [
    "# iteráveis\n",
    "\n",
    "listas = [1, \"texto\", []]   # listas aceitam quaisquer ojetos\n",
    "textos =          "
   ]
  },
  {
   "cell_type": "markdown",
   "id": "88a7382b",
   "metadata": {},
   "source": [
    "# TRABALHANDO DADOS\n",
    "\n",
    "* listas\n",
    "* textos (string)\n",
    "* tuplas\n",
    "* diconário\n",
    "* range\n"
   ]
  },
  {
   "cell_type": "code",
   "execution_count": 12,
   "id": "3f218008",
   "metadata": {},
   "outputs": [
    {
     "name": "stdout",
     "output_type": "stream",
     "text": [
      "arroz\n",
      "feijão\n",
      "carne\n",
      "azeitona\n",
      "papel higiênico\n",
      "salgadinho\n",
      "batata\n"
     ]
    }
   ],
   "source": [
    "# trabalhando com listas\n",
    "\n",
    "compras = ['arroz', 'feijão', 'carne', 'azeitona', 'papel higiênico', 'salgadinho', 'batata']\n",
    "for item in compras:\n",
    "        print (item)"
   ]
  },
  {
   "cell_type": "code",
   "execution_count": null,
   "id": "d4ca45e0",
   "metadata": {},
   "outputs": [],
   "source": []
  },
  {
   "cell_type": "code",
   "execution_count": null,
   "id": "885e10bc",
   "metadata": {},
   "outputs": [],
   "source": []
  },
  {
   "cell_type": "markdown",
   "id": "512c6bc5",
   "metadata": {},
   "source": [
    "### DESAFIO 1"
   ]
  },
  {
   "cell_type": "code",
   "execution_count": null,
   "id": "9e80a788",
   "metadata": {},
   "outputs": [],
   "source": []
  },
  {
   "cell_type": "code",
   "execution_count": 13,
   "id": "8125d054",
   "metadata": {},
   "outputs": [
    {
     "name": "stdout",
     "output_type": "stream",
     "text": [
      "Digite um Número: 55\n",
      "Impar\n"
     ]
    }
   ],
   "source": [
    "range(0, 51)\n",
    "num = int(input(\"Digite um Número: \"))\n",
    "if(num%2) == 0:\n",
    "    print('Par')\n",
    "else:\n",
    "    print('Impar')"
   ]
  },
  {
   "cell_type": "code",
   "execution_count": 24,
   "id": "36fc27ff",
   "metadata": {},
   "outputs": [
    {
     "name": "stdout",
     "output_type": "stream",
     "text": [
      "0 Par\n",
      "1 Impar\n",
      "2 Par\n",
      "3 Impar\n",
      "4 Par\n",
      "5 Impar\n",
      "6 Par\n",
      "7 Impar\n",
      "8 Par\n",
      "9 Impar\n",
      "10 Par\n",
      "11 Impar\n",
      "12 Par\n",
      "13 Impar\n",
      "14 Par\n",
      "15 Impar\n",
      "16 Par\n",
      "17 Impar\n",
      "18 Par\n",
      "19 Impar\n",
      "20 Par\n",
      "21 Impar\n",
      "22 Par\n",
      "23 Impar\n",
      "24 Par\n",
      "25 Impar\n",
      "26 Par\n",
      "27 Impar\n",
      "28 Par\n",
      "29 Impar\n",
      "30 Par\n",
      "31 Impar\n",
      "32 Par\n",
      "33 Impar\n",
      "34 Par\n",
      "35 Impar\n",
      "36 Par\n",
      "37 Impar\n",
      "38 Par\n",
      "39 Impar\n",
      "40 Par\n",
      "41 Impar\n",
      "42 Par\n",
      "43 Impar\n",
      "44 Par\n",
      "45 Impar\n",
      "46 Par\n",
      "47 Impar\n",
      "48 Par\n",
      "49 Impar\n",
      "50 Par\n"
     ]
    }
   ],
   "source": [
    "for num in range(0, 51):\n",
    "    pass\n",
    "    if (num%2) == 0:\n",
    "        print(num, 'Par')\n",
    "    else:\n",
    "        print(num, 'Impar')"
   ]
  },
  {
   "cell_type": "markdown",
   "id": "be071835",
   "metadata": {},
   "source": [
    "## CRIANDO UM MENU"
   ]
  },
  {
   "cell_type": "code",
   "execution_count": null,
   "id": "039348a0",
   "metadata": {},
   "outputs": [],
   "source": [
    "# menu de um restaurante\n",
    "opcoes = "
   ]
  }
 ],
 "metadata": {
  "kernelspec": {
   "display_name": "Python 3 (ipykernel)",
   "language": "python",
   "name": "python3"
  },
  "language_info": {
   "codemirror_mode": {
    "name": "ipython",
    "version": 3
   },
   "file_extension": ".py",
   "mimetype": "text/x-python",
   "name": "python",
   "nbconvert_exporter": "python",
   "pygments_lexer": "ipython3",
   "version": "3.9.7"
  }
 },
 "nbformat": 4,
 "nbformat_minor": 5
}
