{
 "cells": [
  {
   "cell_type": "code",
   "execution_count": 4,
   "id": "b586df57",
   "metadata": {},
   "outputs": [
    {
     "name": "stdout",
     "output_type": "stream",
     "text": [
      "Nicolas de Sousa\n"
     ]
    }
   ],
   "source": [
    "print(\"Nicolas de Sousa\")"
   ]
  },
  {
   "cell_type": "code",
   "execution_count": 5,
   "id": "98c8e70c",
   "metadata": {},
   "outputs": [
    {
     "data": {
      "text/plain": [
       "True"
      ]
     },
     "execution_count": 5,
     "metadata": {},
     "output_type": "execute_result"
    }
   ],
   "source": [
    "True"
   ]
  },
  {
   "cell_type": "markdown",
   "id": "6faa211d",
   "metadata": {},
   "source": [
    "# TIPOS DE DADOS\n",
    "\n",
    "### STRING"
   ]
  },
  {
   "cell_type": "code",
   "execution_count": 6,
   "id": "921d7500",
   "metadata": {},
   "outputs": [
    {
     "name": "stdout",
     "output_type": "stream",
     "text": [
      "esse é um texto de aspas simples.\n",
      "esse é um texto de aspas duplas\n",
      "esse é um texto de aspas triplas simples\n",
      "esse é um texto de aspas triplas duplas.\n"
     ]
    }
   ],
   "source": [
    "print('esse é um texto de aspas simples.')\n",
    "print(\"esse é um texto de aspas duplas\")\n",
    "print('''esse é um texto de aspas triplas simples''')\n",
    "print(\"\"\"esse é um texto de aspas triplas duplas.\"\"\")"
   ]
  },
  {
   "cell_type": "markdown",
   "id": "a27c58de",
   "metadata": {},
   "source": [
    "### CASOS ESPECIAS DAS STRINGS"
   ]
  },
  {
   "cell_type": "markdown",
   "id": "99bd550d",
   "metadata": {},
   "source": [
    "ESCAPE CHARACTER"
   ]
  },
  {
   "cell_type": "code",
   "execution_count": 10,
   "id": "8d89f79c",
   "metadata": {},
   "outputs": [
    {
     "data": {
      "text/plain": [
       "'\"don´t look at me!'"
      ]
     },
     "execution_count": 10,
     "metadata": {},
     "output_type": "execute_result"
    }
   ],
   "source": [
    "\"\\\"don´t look at me!\""
   ]
  },
  {
   "cell_type": "code",
   "execution_count": 12,
   "id": "08680699",
   "metadata": {},
   "outputs": [
    {
     "data": {
      "text/plain": [
       "'DOnt´t look at me!'"
      ]
     },
     "execution_count": 12,
     "metadata": {},
     "output_type": "execute_result"
    }
   ],
   "source": [
    "\"DOnt´t look at me!\" #invisible() characters"
   ]
  },
  {
   "cell_type": "markdown",
   "id": "448f3cd1",
   "metadata": {},
   "source": [
    "#### Para inserir aspas dentro de um texto dve-se colocar barra invertida antes das aspas jutamente com \"invisible() characters\" após a frase. "
   ]
  },
  {
   "cell_type": "code",
   "execution_count": 15,
   "id": "99fda840",
   "metadata": {},
   "outputs": [
    {
     "name": "stdout",
     "output_type": "stream",
     "text": [
      "'don´t look at me!\n"
     ]
    }
   ],
   "source": [
    "print(\"\\'don´t look at me!\") #invisible() characters"
   ]
  },
  {
   "cell_type": "code",
   "execution_count": null,
   "id": "cc7d24bf",
   "metadata": {},
   "outputs": [],
   "source": []
  },
  {
   "cell_type": "code",
   "execution_count": null,
   "id": "e95382ef",
   "metadata": {},
   "outputs": [],
   "source": []
  },
  {
   "cell_type": "markdown",
   "id": "2fb264fa",
   "metadata": {},
   "source": [
    "# DESAFIO 1: Em duias linhas, imprima boas vindas ao usário."
   ]
  },
  {
   "cell_type": "markdown",
   "id": "be21b283",
   "metadata": {},
   "source": [
    "### Resposta:"
   ]
  },
  {
   "cell_type": "code",
   "execution_count": 17,
   "id": "0489f0d0",
   "metadata": {},
   "outputs": [
    {
     "name": "stdout",
     "output_type": "stream",
     "text": [
      "Digite seu nome e sua idade: Nicolas 16\n",
      "Olá Nicolas.\n",
      "Sua idade é 16.\n"
     ]
    }
   ],
   "source": [
    "dados =  input(\"Digite seu nome e sua idade: \").split()\n",
    "print(f\"Olá {dados[0]}.\\nSua idade é {dados[1]}\")"
   ]
  },
  {
   "cell_type": "markdown",
   "id": "2d845f88",
   "metadata": {},
   "source": [
    "#### nesse código utilizamos o método de indexação com o .split() que quebra o texto quando inseriumos espaço."
   ]
  },
  {
   "cell_type": "code",
   "execution_count": null,
   "id": "37254d41",
   "metadata": {},
   "outputs": [],
   "source": [
    "dados = input(\"Digite seu nome e sua idade: \").split()\n",
    "print(\"Olá {}.\\nSua idade é {}.\".format(dados[0], dados[1])) "
   ]
  },
  {
   "cell_type": "markdown",
   "id": "a8af9de1",
   "metadata": {},
   "source": [
    "### SPLIT"
   ]
  },
  {
   "cell_type": "code",
   "execution_count": 2,
   "id": "c788df26",
   "metadata": {},
   "outputs": [
    {
     "data": {
      "text/plain": [
       "['nome,idade,cpf,email']"
      ]
     },
     "execution_count": 2,
     "metadata": {},
     "output_type": "execute_result"
    }
   ],
   "source": [
    "\"nome,idade,cpf,email\".split()"
   ]
  },
  {
   "cell_type": "code",
   "execution_count": 4,
   "id": "13927fde",
   "metadata": {},
   "outputs": [
    {
     "data": {
      "text/plain": [
       "['nome', 'idade', 'cpf', 'email']"
      ]
     },
     "execution_count": 4,
     "metadata": {},
     "output_type": "execute_result"
    }
   ],
   "source": [
    "\"nome,idade,cpf,email\".split(\",\")"
   ]
  },
  {
   "cell_type": "markdown",
   "id": "ecee9191",
   "metadata": {},
   "source": [
    "##### Separando os elementos com uma vírgula."
   ]
  },
  {
   "cell_type": "markdown",
   "id": "cd36331e",
   "metadata": {},
   "source": [
    "## MANIPULANDO STRINGS/TEXTO"
   ]
  },
  {
   "cell_type": "code",
   "execution_count": 13,
   "id": "a6ca81b2",
   "metadata": {},
   "outputs": [
    {
     "name": "stdout",
     "output_type": "stream",
     "text": [
      "\n",
      "COD,NOME,SIGLA\n",
      "35,São Paulo, SP\n",
      "41,Paraná, PR\n",
      "42,Santa Catarina, SC\n",
      "43,Rio Grande do Sul, RS\n",
      "50,Mato Grosso do Sul, MS\n",
      "11,Rondônia, RO\n",
      "12,Acre, AC\n",
      "13,Amazonas, AM\n",
      "14,Roraima, RR\n",
      "15,Pará, PA\n",
      "16,Amapá, AP\n",
      "17,Tocantins, TO\n",
      "21,Maranhão, MA\n",
      "24,Rio Grande do Norte, RN\n",
      "25,Paraíba, PB\n",
      "26,Pernambuco, PE\n",
      "27,Alagoas, AL\n",
      "28,Sergipe, SE\n",
      "29,Bahia, BA\n",
      "31,Minas Gerais, MG\n",
      "33,Rio de Janeiro, RJ\n",
      "51,Mato Grosso, MT\n",
      "52,Goiás, GO\n",
      "53,Distrito Federal, DF\n",
      "22,Piauí, PI\n",
      "23,Ceará, CE\n",
      "32,Espírito Santo, ES\n",
      "\n"
     ]
    }
   ],
   "source": [
    "estados = \"\"\"\n",
    "COD,NOME,SIGLA\n",
    "35,São Paulo, SP\n",
    "41,Paraná, PR\n",
    "42,Santa Catarina, SC\n",
    "43,Rio Grande do Sul, RS\n",
    "50,Mato Grosso do Sul, MS\n",
    "11,Rondônia, RO\n",
    "12,Acre, AC\n",
    "13,Amazonas, AM\n",
    "14,Roraima, RR\n",
    "15,Pará, PA\n",
    "16,Amapá, AP\n",
    "17,Tocantins, TO\n",
    "21,Maranhão, MA\n",
    "24,Rio Grande do Norte, RN\n",
    "25,Paraíba, PB\n",
    "26,Pernambuco, PE\n",
    "27,Alagoas, AL\n",
    "28,Sergipe, SE\n",
    "29,Bahia, BA\n",
    "31,Minas Gerais, MG\n",
    "33,Rio de Janeiro, RJ\n",
    "51,Mato Grosso, MT\n",
    "52,Goiás, GO\n",
    "53,Distrito Federal, DF\n",
    "22,Piauí, PI\n",
    "23,Ceará, CE\n",
    "32,Espírito Santo, ES\n",
    "\"\"\"\n",
    "print(estados)"
   ]
  },
  {
   "cell_type": "code",
   "execution_count": 20,
   "id": "c9c52af0",
   "metadata": {},
   "outputs": [
    {
     "data": {
      "text/plain": [
       "['',\n",
       " 'COD,NOME,SIGLA',\n",
       " '35,São Paulo, SP',\n",
       " '41,Paraná, PR',\n",
       " '42,Santa Catarina, SC',\n",
       " '43,Rio Grande do Sul, RS',\n",
       " '50,Mato Grosso do Sul, MS',\n",
       " '11,Rondônia, RO',\n",
       " '12,Acre, AC',\n",
       " '13,Amazonas, AM',\n",
       " '14,Roraima, RR',\n",
       " '15,Pará, PA',\n",
       " '16,Amapá, AP',\n",
       " '17,Tocantins, TO',\n",
       " '21,Maranhão, MA',\n",
       " '24,Rio Grande do Norte, RN',\n",
       " '25,Paraíba, PB',\n",
       " '26,Pernambuco, PE',\n",
       " '27,Alagoas, AL',\n",
       " '28,Sergipe, SE',\n",
       " '29,Bahia, BA',\n",
       " '31,Minas Gerais, MG',\n",
       " '33,Rio de Janeiro, RJ',\n",
       " '51,Mato Grosso, MT',\n",
       " '52,Goiás, GO',\n",
       " '53,Distrito Federal, DF',\n",
       " '22,Piauí, PI',\n",
       " '23,Ceará, CE',\n",
       " '32,Espírito Santo, ES',\n",
       " '']"
      ]
     },
     "execution_count": 20,
     "metadata": {},
     "output_type": "execute_result"
    }
   ],
   "source": [
    "estados.split(\"\\n\")"
   ]
  },
  {
   "cell_type": "code",
   "execution_count": 22,
   "id": "35e7242b",
   "metadata": {},
   "outputs": [],
   "source": [
    "alunos = \"\"\"\n",
    "'Nicolas A.',\n",
    "'Pablo',\n",
    "'Raquel',\n",
    "'Patrick',\n",
    "'Lucas',\n",
    "\"\"\""
   ]
  },
  {
   "cell_type": "code",
   "execution_count": 24,
   "id": "d554c057",
   "metadata": {},
   "outputs": [
    {
     "data": {
      "text/plain": [
       "\"\\n'Nicolas A.',\\n'Pablo',\\n'Raquel',\\n'Patrick',\\n'Lucas',\\n\""
      ]
     },
     "execution_count": 24,
     "metadata": {},
     "output_type": "execute_result"
    }
   ],
   "source": [
    "alunos"
   ]
  },
  {
   "cell_type": "code",
   "execution_count": 28,
   "id": "0da49390",
   "metadata": {},
   "outputs": [
    {
     "data": {
      "text/plain": [
       "['', \"'Nicolas A.',\", \"'Pablo',\", \"'Raquel',\", \"'Patrick',\", \"'Lucas',\", '']"
      ]
     },
     "execution_count": 28,
     "metadata": {},
     "output_type": "execute_result"
    }
   ],
   "source": [
    "alunos.split(\"\\n\")"
   ]
  },
  {
   "cell_type": "code",
   "execution_count": 31,
   "id": "49f28114",
   "metadata": {},
   "outputs": [
    {
     "data": {
      "text/plain": [
       "2"
      ]
     },
     "execution_count": 31,
     "metadata": {},
     "output_type": "execute_result"
    }
   ],
   "source": [
    "alunos.index(\"Nicolas A.\")"
   ]
  },
  {
   "cell_type": "markdown",
   "id": "ac8c5d2c",
   "metadata": {},
   "source": [
    "### Outros tipos de String/Texto"
   ]
  },
  {
   "cell_type": "code",
   "execution_count": null,
   "id": "3821fa64",
   "metadata": {},
   "outputs": [],
   "source": [
    "r\"raw-string\" # texto sec, cru, literal"
   ]
  },
  {
   "cell_type": "code",
   "execution_count": null,
   "id": "2ddedcc4",
   "metadata": {},
   "outputs": [],
   "source": []
  },
  {
   "cell_type": "markdown",
   "id": "daebf3db",
   "metadata": {},
   "source": [
    "## LISTAS - Mutáveis"
   ]
  },
  {
   "cell_type": "code",
   "execution_count": 35,
   "id": "fc7993f3",
   "metadata": {},
   "outputs": [
    {
     "name": "stdout",
     "output_type": "stream",
     "text": [
      "pêssego\n"
     ]
    }
   ],
   "source": [
    "frutas = [\"tomate\", \"maçã\", \"morango\", \"banana\", \"pêra\", \"pêssego\"] \n",
    "print(frutas[len(frutas)-1]) "
   ]
  },
  {
   "cell_type": "code",
   "execution_count": 39,
   "id": "59290886",
   "metadata": {},
   "outputs": [
    {
     "name": "stdout",
     "output_type": "stream",
     "text": [
      "Digite seu nome e sobrenome: Nicolas Alves\n",
      "N A\n"
     ]
    }
   ],
   "source": [
    "nome, sobrenome = input(\"Digite seu nome e sobrenome: \").split()\n",
    "print(f\"{nome[0]} {sobrenome[0]}\")"
   ]
  },
  {
   "cell_type": "code",
   "execution_count": 2,
   "id": "5b83ee1f",
   "metadata": {},
   "outputs": [
    {
     "name": "stdout",
     "output_type": "stream",
     "text": [
      "Digite seu nome e sobrenome: Nicolas de Sousa Alves\n"
     ]
    },
    {
     "ename": "ValueError",
     "evalue": "too many values to unpack (expected 2)",
     "output_type": "error",
     "traceback": [
      "\u001b[1;31m---------------------------------------------------------------------------\u001b[0m",
      "\u001b[1;31mValueError\u001b[0m                                Traceback (most recent call last)",
      "\u001b[1;32mC:\\Users\\FATECS~1\\AppData\\Local\\Temp/ipykernel_12756/1701446430.py\u001b[0m in \u001b[0;36m<module>\u001b[1;34m\u001b[0m\n\u001b[1;32m----> 1\u001b[1;33m \u001b[0mnome\u001b[0m\u001b[1;33m,\u001b[0m \u001b[0msobrenome\u001b[0m \u001b[1;33m=\u001b[0m \u001b[0minput\u001b[0m\u001b[1;33m(\u001b[0m\u001b[1;34m\"Digite seu nome e sobrenome: \"\u001b[0m\u001b[1;33m)\u001b[0m\u001b[1;33m.\u001b[0m\u001b[0msplit\u001b[0m\u001b[1;33m(\u001b[0m\u001b[1;33m)\u001b[0m\u001b[1;33m\u001b[0m\u001b[1;33m\u001b[0m\u001b[0m\n\u001b[0m\u001b[0;32m      2\u001b[0m \u001b[0mprint\u001b[0m\u001b[1;33m(\u001b[0m\u001b[0mnome\u001b[0m\u001b[1;33m[\u001b[0m\u001b[1;36m0\u001b[0m\u001b[1;33m]\u001b[0m \u001b[1;33m+\u001b[0m \u001b[0msobrenome\u001b[0m\u001b[1;33m[\u001b[0m\u001b[1;36m0\u001b[0m\u001b[1;33m]\u001b[0m\u001b[1;33m)\u001b[0m\u001b[1;33m\u001b[0m\u001b[1;33m\u001b[0m\u001b[0m\n",
      "\u001b[1;31mValueError\u001b[0m: too many values to unpack (expected 2)"
     ]
    }
   ],
   "source": [
    "nome, sobrenome = input(\"Digite seu nome e sobrenome: \").split()\n",
    "print(nome[0] + sobrenome[0])"
   ]
  },
  {
   "cell_type": "code",
   "execution_count": 3,
   "id": "41d302ee",
   "metadata": {},
   "outputs": [
    {
     "name": "stdout",
     "output_type": "stream",
     "text": [
      "Digite seu nome e sobrenome: Nicolas Alves\n",
      "N.A\n"
     ]
    }
   ],
   "source": [
    "nome, sobrenome = input(\"Digite seu nome e sobrenome: \").split()\n",
    "print(nome[0], sobrenome[0], sep=\".\")"
   ]
  },
  {
   "cell_type": "markdown",
   "id": "8833b77b",
   "metadata": {},
   "source": [
    "# FUNÇÕES"
   ]
  },
  {
   "cell_type": "markdown",
   "id": "1f7b06fd",
   "metadata": {},
   "source": [
    "## Criando funções próprias"
   ]
  },
  {
   "cell_type": "markdown",
   "id": "9c509106",
   "metadata": {},
   "source": [
    "* função dummy "
   ]
  },
  {
   "cell_type": "code",
   "execution_count": 5,
   "id": "5dcc5153",
   "metadata": {},
   "outputs": [],
   "source": [
    "def minha_funcao():\n",
    "    pass\n"
   ]
  },
  {
   "cell_type": "code",
   "execution_count": 9,
   "id": "7fd15c47",
   "metadata": {},
   "outputs": [
    {
     "data": {
      "text/plain": [
       "'olátalvez'"
      ]
     },
     "execution_count": 9,
     "metadata": {},
     "output_type": "execute_result"
    }
   ],
   "source": [
    "# parâmetro \n",
    "\n",
    "def func2(parametro1, parametro2):\n",
    "    return(parametro1 + parametro2)\n",
    "    \n",
    "func2(\"olá\", \"talvez\")"
   ]
  },
  {
   "cell_type": "code",
   "execution_count": 11,
   "id": "409f084a",
   "metadata": {},
   "outputs": [
    {
     "name": "stdout",
     "output_type": "stream",
     "text": [
      "OláCOISAS\n"
     ]
    }
   ],
   "source": [
    "def func2(parametro1=\"Olá\", parametro2=\"\"):\n",
    "    return(parametro1 + parametro2)\n",
    "    \n",
    "valor = func2(parametro2='COISAS')\n",
    "print(valor)"
   ]
  },
  {
   "cell_type": "code",
   "execution_count": 1,
   "id": "7238b92a",
   "metadata": {},
   "outputs": [
    {
     "name": "stdout",
     "output_type": "stream",
     "text": [
      "Digite um Número55\n",
      "Impar\n"
     ]
    }
   ],
   "source": [
    "num = int(input(\"Digite um Número\"))\n",
    "if(num%2) == 0:\n",
    "    print('Par')\n",
    "else:\n",
    "    print('Impar')"
   ]
  },
  {
   "cell_type": "code",
   "execution_count": 2,
   "id": "32dd9e94",
   "metadata": {},
   "outputs": [
    {
     "name": "stdout",
     "output_type": "stream",
     "text": [
      "Digite um Número55\n",
      "Impar\n"
     ]
    }
   ],
   "source": [
    "range(0, 51)\n",
    "num = int(input(\"Digite um Número: \"))\n",
    "if(num%2) == 0:\n",
    "    print('Par')\n",
    "else:\n",
    "    print('Impar')"
   ]
  },
  {
   "cell_type": "code",
   "execution_count": null,
   "id": "706f2080",
   "metadata": {},
   "outputs": [],
   "source": [
    "num = int(input(\"Digite um Número\"))\n",
    "if(num%2) == 0:\n",
    "    print('Par')\n",
    "else:\n",
    "    print('Impar')"
   ]
  }
 ],
 "metadata": {
  "kernelspec": {
   "display_name": "Python 3 (ipykernel)",
   "language": "python",
   "name": "python3"
  },
  "language_info": {
   "codemirror_mode": {
    "name": "ipython",
    "version": 3
   },
   "file_extension": ".py",
   "mimetype": "text/x-python",
   "name": "python",
   "nbconvert_exporter": "python",
   "pygments_lexer": "ipython3",
   "version": "3.9.7"
  }
 },
 "nbformat": 4,
 "nbformat_minor": 5
}
